{
 "cells": [
  {
   "cell_type": "markdown",
   "id": "c24d09c5",
   "metadata": {},
   "source": [
    "# 1) 데이터 로딩"
   ]
  },
  {
   "cell_type": "code",
   "execution_count": 1,
   "id": "6632128f",
   "metadata": {},
   "outputs": [
    {
     "name": "stderr",
     "output_type": "stream",
     "text": [
      "/var/folders/fx/bdj1bhw11037xfwjzgrx6vc80000gn/T/ipykernel_53897/2798824054.py:3: DtypeWarning: Columns (15) have mixed types. Specify dtype option on import or set low_memory=False.\n",
      "  raw_pubchem_df = pd.read_csv('data/Pubchem_ASK1.csv')\n"
     ]
    },
    {
     "data": {
      "text/html": [
       "<div>\n",
       "<style scoped>\n",
       "    .dataframe tbody tr th:only-of-type {\n",
       "        vertical-align: middle;\n",
       "    }\n",
       "\n",
       "    .dataframe tbody tr th {\n",
       "        vertical-align: top;\n",
       "    }\n",
       "\n",
       "    .dataframe thead th {\n",
       "        text-align: right;\n",
       "    }\n",
       "</style>\n",
       "<table border=\"1\" class=\"dataframe\">\n",
       "  <thead>\n",
       "    <tr style=\"text-align: right;\">\n",
       "      <th></th>\n",
       "      <th>Smiles</th>\n",
       "      <th>IC50_nM</th>\n",
       "    </tr>\n",
       "  </thead>\n",
       "  <tbody>\n",
       "    <tr>\n",
       "      <th>0</th>\n",
       "      <td>CC1=CC(=C(C=C1S(=O)(=O)N)C(=O)NC2=CC=CC(=N2)C3...</td>\n",
       "      <td>0.00010</td>\n",
       "    </tr>\n",
       "    <tr>\n",
       "      <th>1</th>\n",
       "      <td>CCS(=O)(=O)NC1=CC(=C(C=C1)OC)C(=O)NC2=CC=CC(=N...</td>\n",
       "      <td>0.00032</td>\n",
       "    </tr>\n",
       "    <tr>\n",
       "      <th>2</th>\n",
       "      <td>CNC(=O)C1CCN(CC1)C2=CN=C(C=C2N3C=C(N=C3)C4CC4)...</td>\n",
       "      <td>0.00040</td>\n",
       "    </tr>\n",
       "    <tr>\n",
       "      <th>3</th>\n",
       "      <td>CC1=CC(=C(C=C1C(=O)N)C(=O)NC2=CC=CC(=N2)C3=NN=...</td>\n",
       "      <td>0.00042</td>\n",
       "    </tr>\n",
       "    <tr>\n",
       "      <th>4</th>\n",
       "      <td>CC12C(C(CC(O1)N3C4=CC=CC=C4C5=C6C(=C7C8=CC=CC=...</td>\n",
       "      <td>0.00069</td>\n",
       "    </tr>\n",
       "  </tbody>\n",
       "</table>\n",
       "</div>"
      ],
      "text/plain": [
       "                                              Smiles  IC50_nM\n",
       "0  CC1=CC(=C(C=C1S(=O)(=O)N)C(=O)NC2=CC=CC(=N2)C3...  0.00010\n",
       "1  CCS(=O)(=O)NC1=CC(=C(C=C1)OC)C(=O)NC2=CC=CC(=N...  0.00032\n",
       "2  CNC(=O)C1CCN(CC1)C2=CN=C(C=C2N3C=C(N=C3)C4CC4)...  0.00040\n",
       "3  CC1=CC(=C(C=C1C(=O)N)C(=O)NC2=CC=CC(=N2)C3=NN=...  0.00042\n",
       "4  CC12C(C(CC(O1)N3C4=CC=CC=C4C5=C6C(=C7C8=CC=CC=...  0.00069"
      ]
     },
     "execution_count": 1,
     "metadata": {},
     "output_type": "execute_result"
    }
   ],
   "source": [
    "import pandas as pd\n",
    "\n",
    "raw_pubchem_df = pd.read_csv('data/Pubchem_ASK1.csv')\n",
    "pubchem_df = raw_pubchem_df[['SMILES', 'Activity_Value']].dropna()\n",
    "pubchem_df.rename(columns={'SMILES':'Smiles', 'Activity_Value':'IC50_nM'},inplace=True)\n",
    "pubchem_df.head()"
   ]
  },
  {
   "cell_type": "code",
   "execution_count": 2,
   "id": "db1f5d84",
   "metadata": {},
   "outputs": [
    {
     "data": {
      "text/html": [
       "<div>\n",
       "<style scoped>\n",
       "    .dataframe tbody tr th:only-of-type {\n",
       "        vertical-align: middle;\n",
       "    }\n",
       "\n",
       "    .dataframe tbody tr th {\n",
       "        vertical-align: top;\n",
       "    }\n",
       "\n",
       "    .dataframe thead th {\n",
       "        text-align: right;\n",
       "    }\n",
       "</style>\n",
       "<table border=\"1\" class=\"dataframe\">\n",
       "  <thead>\n",
       "    <tr style=\"text-align: right;\">\n",
       "      <th></th>\n",
       "      <th>Smiles</th>\n",
       "      <th>IC50_nM</th>\n",
       "    </tr>\n",
       "  </thead>\n",
       "  <tbody>\n",
       "    <tr>\n",
       "      <th>1143</th>\n",
       "      <td>CC1=CC(=C2C(=C1)SC(=N2)N3C(C(=C(C3=O)O)C(=O)C4...</td>\n",
       "      <td>63.0</td>\n",
       "    </tr>\n",
       "    <tr>\n",
       "      <th>1144</th>\n",
       "      <td>CN1C=C(C2=CC=CC=C21)C=C3C4=CC=CC=C4NC3=O</td>\n",
       "      <td>82.7</td>\n",
       "    </tr>\n",
       "    <tr>\n",
       "      <th>1145</th>\n",
       "      <td>CN1C=C(C2=CC=CC=C21)C=C3C4=CC=CC=C4NC3=O</td>\n",
       "      <td>100.0</td>\n",
       "    </tr>\n",
       "    <tr>\n",
       "      <th>1146</th>\n",
       "      <td>CCN1C=C(N=C1)NC(=O)C2=CSC=N2</td>\n",
       "      <td>100.0</td>\n",
       "    </tr>\n",
       "    <tr>\n",
       "      <th>1147</th>\n",
       "      <td>CCN1C=C(N=C1)NC(=O)C2=COC=C2</td>\n",
       "      <td>500.0</td>\n",
       "    </tr>\n",
       "  </tbody>\n",
       "</table>\n",
       "</div>"
      ],
      "text/plain": [
       "                                                 Smiles  IC50_nM\n",
       "1143  CC1=CC(=C2C(=C1)SC(=N2)N3C(C(=C(C3=O)O)C(=O)C4...     63.0\n",
       "1144           CN1C=C(C2=CC=CC=C21)C=C3C4=CC=CC=C4NC3=O     82.7\n",
       "1145           CN1C=C(C2=CC=CC=C21)C=C3C4=CC=CC=C4NC3=O    100.0\n",
       "1146                       CCN1C=C(N=C1)NC(=O)C2=CSC=N2    100.0\n",
       "1147                       CCN1C=C(N=C1)NC(=O)C2=COC=C2    500.0"
      ]
     },
     "execution_count": 2,
     "metadata": {},
     "output_type": "execute_result"
    }
   ],
   "source": [
    "pubchem_df.tail()"
   ]
  },
  {
   "cell_type": "code",
   "execution_count": null,
   "id": "4f4377d4",
   "metadata": {},
   "outputs": [],
   "source": [
    "raw_chembl_df = pd.read_csv('data/ChEMBL_ASK1(IC50).csv', sep=';',low_memory=False)\n",
    "chembl_df = raw_chembl_df[['Smiles','Value']].dropna()\n",
    "chembl_df.rename(columns={'Value':'IC50_nM'},inplace=True)\n",
    "chembl_df = chembl_df[chembl_df['IC50_nM'] > 0]\n",
    "\n",
    "raw_chembl_df.to_csv('data/ChEMBL_ASK1(IC50)_.csv')"
   ]
  },
  {
   "cell_type": "code",
   "execution_count": 4,
   "id": "4ec3b97b",
   "metadata": {},
   "outputs": [
    {
     "data": {
      "text/html": [
       "<div>\n",
       "<style scoped>\n",
       "    .dataframe tbody tr th:only-of-type {\n",
       "        vertical-align: middle;\n",
       "    }\n",
       "\n",
       "    .dataframe tbody tr th {\n",
       "        vertical-align: top;\n",
       "    }\n",
       "\n",
       "    .dataframe thead th {\n",
       "        text-align: right;\n",
       "    }\n",
       "</style>\n",
       "<table border=\"1\" class=\"dataframe\">\n",
       "  <thead>\n",
       "    <tr style=\"text-align: right;\">\n",
       "      <th></th>\n",
       "      <th>Smiles</th>\n",
       "      <th>IC50_nM</th>\n",
       "    </tr>\n",
       "  </thead>\n",
       "  <tbody>\n",
       "    <tr>\n",
       "      <th>0</th>\n",
       "      <td>Cn1cc(Cl)c2cnc(NC(=O)c3ccc([C@](C)(O)CO)cc3)cc21</td>\n",
       "      <td>38.000</td>\n",
       "    </tr>\n",
       "    <tr>\n",
       "      <th>1</th>\n",
       "      <td>Cc1cc2c(-c3ccc(S(=O)(=O)NCCN)s3)ccnc2[nH]1</td>\n",
       "      <td>0.251</td>\n",
       "    </tr>\n",
       "    <tr>\n",
       "      <th>2</th>\n",
       "      <td>Cc1cc(C)c2nc(N3C(=O)C(O)=C(C(=O)c4ccc(Cl)cc4)C...</td>\n",
       "      <td>6.300</td>\n",
       "    </tr>\n",
       "    <tr>\n",
       "      <th>3</th>\n",
       "      <td>Cc1ccc(C(=O)C2=C(O)C(=O)N(c3nc4ccc(F)cc4s3)C2c...</td>\n",
       "      <td>7.600</td>\n",
       "    </tr>\n",
       "    <tr>\n",
       "      <th>4</th>\n",
       "      <td>CCOc1ccc2nc(N3C(=O)C(O)=C(C(=O)c4ccccc4)C3c3cc...</td>\n",
       "      <td>4.200</td>\n",
       "    </tr>\n",
       "    <tr>\n",
       "      <th>...</th>\n",
       "      <td>...</td>\n",
       "      <td>...</td>\n",
       "    </tr>\n",
       "    <tr>\n",
       "      <th>819</th>\n",
       "      <td>O=C(Nc1nc2cc(C(F)(F)F)cc(NC3CC3)n2n1)c1cccnc1</td>\n",
       "      <td>131.000</td>\n",
       "    </tr>\n",
       "    <tr>\n",
       "      <th>820</th>\n",
       "      <td>O=C(Nc1cccc(-c2nncn2C2CC2)c1)c1cc(-n2cnc(C3CC3...</td>\n",
       "      <td>2.870</td>\n",
       "    </tr>\n",
       "    <tr>\n",
       "      <th>821</th>\n",
       "      <td>O=C(Nc1nc2cc(C(F)(F)F)cc(NC3CC3)n2n1)c1cccnc1</td>\n",
       "      <td>13.000</td>\n",
       "    </tr>\n",
       "    <tr>\n",
       "      <th>822</th>\n",
       "      <td>Cc1cc(F)c(C(=O)Nc2cccc(-c3nncn3C(C)C)n2)cc1-n1...</td>\n",
       "      <td>7501.000</td>\n",
       "    </tr>\n",
       "    <tr>\n",
       "      <th>823</th>\n",
       "      <td>COc1cc2nccc(Oc3ccc(NC(=O)c4cn(C(C)C)c5ccccc5c4...</td>\n",
       "      <td>6.000</td>\n",
       "    </tr>\n",
       "  </tbody>\n",
       "</table>\n",
       "<p>812 rows × 2 columns</p>\n",
       "</div>"
      ],
      "text/plain": [
       "                                                Smiles   IC50_nM\n",
       "0     Cn1cc(Cl)c2cnc(NC(=O)c3ccc([C@](C)(O)CO)cc3)cc21    38.000\n",
       "1           Cc1cc2c(-c3ccc(S(=O)(=O)NCCN)s3)ccnc2[nH]1     0.251\n",
       "2    Cc1cc(C)c2nc(N3C(=O)C(O)=C(C(=O)c4ccc(Cl)cc4)C...     6.300\n",
       "3    Cc1ccc(C(=O)C2=C(O)C(=O)N(c3nc4ccc(F)cc4s3)C2c...     7.600\n",
       "4    CCOc1ccc2nc(N3C(=O)C(O)=C(C(=O)c4ccccc4)C3c3cc...     4.200\n",
       "..                                                 ...       ...\n",
       "819      O=C(Nc1nc2cc(C(F)(F)F)cc(NC3CC3)n2n1)c1cccnc1   131.000\n",
       "820  O=C(Nc1cccc(-c2nncn2C2CC2)c1)c1cc(-n2cnc(C3CC3...     2.870\n",
       "821      O=C(Nc1nc2cc(C(F)(F)F)cc(NC3CC3)n2n1)c1cccnc1    13.000\n",
       "822  Cc1cc(F)c(C(=O)Nc2cccc(-c3nncn3C(C)C)n2)cc1-n1...  7501.000\n",
       "823  COc1cc2nccc(Oc3ccc(NC(=O)c4cn(C(C)C)c5ccccc5c4...     6.000\n",
       "\n",
       "[812 rows x 2 columns]"
      ]
     },
     "execution_count": 4,
     "metadata": {},
     "output_type": "execute_result"
    }
   ],
   "source": [
    "chembl_df"
   ]
  },
  {
   "cell_type": "markdown",
   "id": "767ef429",
   "metadata": {},
   "source": [
    "# 2) 시각화 및 전처리"
   ]
  },
  {
   "cell_type": "code",
   "execution_count": 5,
   "id": "d4656055",
   "metadata": {},
   "outputs": [
    {
     "data": {
      "text/plain": [
       "<Axes: >"
      ]
     },
     "execution_count": 5,
     "metadata": {},
     "output_type": "execute_result"
    },
    {
     "data": {
      "image/png": "[encoded data removed]",
      "text/plain": [
       "<Figure size 640x480 with 1 Axes>"
      ]
     },
     "metadata": {},
     "output_type": "display_data"
    }
   ],
   "source": [
    "import seaborn as sns\n",
    "sns.boxplot(chembl_df)"
   ]
  },
  {
   "cell_type": "code",
   "execution_count": 6,
   "id": "0ca0eb36",
   "metadata": {},
   "outputs": [
    {
     "data": {
      "text/plain": [
       "<Axes: ylabel='log_IC50'>"
      ]
     },
     "execution_count": 6,
     "metadata": {},
     "output_type": "execute_result"
    },
    {
     "data": {
      "image/png": "[encoded data removed]",
      "text/plain": [
       "<Figure size 640x480 with 1 Axes>"
      ]
     },
     "metadata": {},
     "output_type": "display_data"
    }
   ],
   "source": [
    "import numpy as np\n",
    "chembl_df['log_IC50'] = np.log10(chembl_df['IC50_nM'])\n",
    "sns.boxplot(y=chembl_df['log_IC50'])\n"
   ]
  },
  {
   "cell_type": "code",
   "execution_count": 7,
   "id": "beb30476",
   "metadata": {},
   "outputs": [
    {
     "data": {
      "text/plain": [
       "<Axes: ylabel='log_IC50'>"
      ]
     },
     "execution_count": 7,
     "metadata": {},
     "output_type": "execute_result"
    },
    {
     "data": {
      "image/png": "[encoded data removed]",
      "text/plain": [
       "<Figure size 640x480 with 1 Axes>"
      ]
     },
     "metadata": {},
     "output_type": "display_data"
    }
   ],
   "source": [
    "pubchem_df['log_IC50']= np.log10(pubchem_df['IC50_nM'])\n",
    "sns.boxplot(y=pubchem_df['log_IC50'])"
   ]
  },
  {
   "cell_type": "code",
   "execution_count": 8,
   "id": "ef0a2988",
   "metadata": {},
   "outputs": [
    {
     "data": {
      "text/plain": [
       "<Axes: xlabel='log_IC50', ylabel='Count'>"
      ]
     },
     "execution_count": 8,
     "metadata": {},
     "output_type": "execute_result"
    },
    {
     "data": {
      "image/png": "[encoded data removed]",
      "text/plain": [
       "<Figure size 640x480 with 1 Axes>"
      ]
     },
     "metadata": {},
     "output_type": "display_data"
    }
   ],
   "source": [
    "sns.histplot(chembl_df, x='log_IC50')"
   ]
  },
  {
   "cell_type": "code",
   "execution_count": 9,
   "id": "f2989837",
   "metadata": {},
   "outputs": [],
   "source": [
    "# def remove_iqr(df,columns):  \n",
    "#     df_clean = df.copy()\n",
    "#     for col in columns:\n",
    "#         Q1 = df_clean[col].quantile(0.25)\n",
    "#         Q3 = df_clean[col].quantile(0.75)\n",
    "#         #중앙 50% 데이터가 얼만큼 퍼져 있는지를 나타내는 값\n",
    "#         IQR = Q3-Q1\n",
    "#         # 이상치 경계(lower/upper\n",
    "#         lower = Q1 - 1.5*IQR\n",
    "#         upper = Q3 + 1.5*IQR\n",
    "#         df_clean = df_clean[(df_clean[col] >= lower) & (df_clean[col] <= upper)]\n",
    "#     return df_clean "
   ]
  },
  {
   "cell_type": "markdown",
   "id": "8ea8f9be",
   "metadata": {},
   "source": [
    "\n",
    "# 3) 데이터 병합"
   ]
  },
  {
   "cell_type": "code",
   "execution_count": 10,
   "id": "3e7a14e0",
   "metadata": {},
   "outputs": [
    {
     "data": {
      "text/html": [
       "<div>\n",
       "<style scoped>\n",
       "    .dataframe tbody tr th:only-of-type {\n",
       "        vertical-align: middle;\n",
       "    }\n",
       "\n",
       "    .dataframe tbody tr th {\n",
       "        vertical-align: top;\n",
       "    }\n",
       "\n",
       "    .dataframe thead th {\n",
       "        text-align: right;\n",
       "    }\n",
       "</style>\n",
       "<table border=\"1\" class=\"dataframe\">\n",
       "  <thead>\n",
       "    <tr style=\"text-align: right;\">\n",
       "      <th></th>\n",
       "      <th>Smiles</th>\n",
       "      <th>IC50_nM</th>\n",
       "      <th>log_IC50</th>\n",
       "    </tr>\n",
       "  </thead>\n",
       "  <tbody>\n",
       "    <tr>\n",
       "      <th>0</th>\n",
       "      <td>CC1=CC(=C(C=C1S(=O)(=O)N)C(=O)NC2=CC=CC(=N2)C3...</td>\n",
       "      <td>0.00010</td>\n",
       "      <td>-4.000000</td>\n",
       "    </tr>\n",
       "    <tr>\n",
       "      <th>1</th>\n",
       "      <td>CCS(=O)(=O)NC1=CC(=C(C=C1)OC)C(=O)NC2=CC=CC(=N...</td>\n",
       "      <td>0.00032</td>\n",
       "      <td>-3.494850</td>\n",
       "    </tr>\n",
       "    <tr>\n",
       "      <th>2</th>\n",
       "      <td>CNC(=O)C1CCN(CC1)C2=CN=C(C=C2N3C=C(N=C3)C4CC4)...</td>\n",
       "      <td>0.00040</td>\n",
       "      <td>-3.397940</td>\n",
       "    </tr>\n",
       "    <tr>\n",
       "      <th>3</th>\n",
       "      <td>CC1=CC(=C(C=C1C(=O)N)C(=O)NC2=CC=CC(=N2)C3=NN=...</td>\n",
       "      <td>0.00042</td>\n",
       "      <td>-3.376751</td>\n",
       "    </tr>\n",
       "    <tr>\n",
       "      <th>4</th>\n",
       "      <td>CC12C(C(CC(O1)N3C4=CC=CC=C4C5=C6C(=C7C8=CC=CC=...</td>\n",
       "      <td>0.00069</td>\n",
       "      <td>-3.161151</td>\n",
       "    </tr>\n",
       "    <tr>\n",
       "      <th>...</th>\n",
       "      <td>...</td>\n",
       "      <td>...</td>\n",
       "      <td>...</td>\n",
       "    </tr>\n",
       "    <tr>\n",
       "      <th>1219</th>\n",
       "      <td>O=C(Nc1cccc(-c2nncn2C2CC2)n1)c1cc(-c2cnn(C(F)F...</td>\n",
       "      <td>290.89000</td>\n",
       "      <td>2.463729</td>\n",
       "    </tr>\n",
       "    <tr>\n",
       "      <th>1220</th>\n",
       "      <td>COC1NC(=O)c2c1c1c3ccccc3[nH]c1c1[nH]c3ccc(O)cc...</td>\n",
       "      <td>50.00000</td>\n",
       "      <td>1.698970</td>\n",
       "    </tr>\n",
       "    <tr>\n",
       "      <th>1221</th>\n",
       "      <td>CC(C)n1cnnc1-c1cccc(NC(=O)c2cc3c(C(F)(F)F)nn(C...</td>\n",
       "      <td>2660.00000</td>\n",
       "      <td>3.424882</td>\n",
       "    </tr>\n",
       "    <tr>\n",
       "      <th>1222</th>\n",
       "      <td>Clc1cccc(Nc2ncnc3[nH]cnc23)c1</td>\n",
       "      <td>10.00000</td>\n",
       "      <td>1.000000</td>\n",
       "    </tr>\n",
       "    <tr>\n",
       "      <th>1223</th>\n",
       "      <td>Cc1c(C(=O)N2CCOc3ccc(-c4ccc(N)nc4)cc3C2)ccc(S(...</td>\n",
       "      <td>10000.00000</td>\n",
       "      <td>4.000000</td>\n",
       "    </tr>\n",
       "  </tbody>\n",
       "</table>\n",
       "<p>1224 rows × 3 columns</p>\n",
       "</div>"
      ],
      "text/plain": [
       "                                                 Smiles      IC50_nM  log_IC50\n",
       "0     CC1=CC(=C(C=C1S(=O)(=O)N)C(=O)NC2=CC=CC(=N2)C3...      0.00010 -4.000000\n",
       "1     CCS(=O)(=O)NC1=CC(=C(C=C1)OC)C(=O)NC2=CC=CC(=N...      0.00032 -3.494850\n",
       "2     CNC(=O)C1CCN(CC1)C2=CN=C(C=C2N3C=C(N=C3)C4CC4)...      0.00040 -3.397940\n",
       "3     CC1=CC(=C(C=C1C(=O)N)C(=O)NC2=CC=CC(=N2)C3=NN=...      0.00042 -3.376751\n",
       "4     CC12C(C(CC(O1)N3C4=CC=CC=C4C5=C6C(=C7C8=CC=CC=...      0.00069 -3.161151\n",
       "...                                                 ...          ...       ...\n",
       "1219  O=C(Nc1cccc(-c2nncn2C2CC2)n1)c1cc(-c2cnn(C(F)F...    290.89000  2.463729\n",
       "1220  COC1NC(=O)c2c1c1c3ccccc3[nH]c1c1[nH]c3ccc(O)cc...     50.00000  1.698970\n",
       "1221  CC(C)n1cnnc1-c1cccc(NC(=O)c2cc3c(C(F)(F)F)nn(C...   2660.00000  3.424882\n",
       "1222                      Clc1cccc(Nc2ncnc3[nH]cnc23)c1     10.00000  1.000000\n",
       "1223  Cc1c(C(=O)N2CCOc3ccc(-c4ccc(N)nc4)cc3C2)ccc(S(...  10000.00000  4.000000\n",
       "\n",
       "[1224 rows x 3 columns]"
      ]
     },
     "execution_count": 10,
     "metadata": {},
     "output_type": "execute_result"
    }
   ],
   "source": [
    "pubchem_df[\"Smiles\"] = pubchem_df[\"Smiles\"].str.strip()\n",
    "chembl_df[\"Smiles\"] = chembl_df[\"Smiles\"].str.strip()\n",
    "\n",
    "train_df = pd.concat([pubchem_df,chembl_df],ignore_index=True)\n",
    "train_df = train_df.drop_duplicates(subset='Smiles').reset_index(drop=True)\n",
    "\n",
    "train_df"
   ]
  },
  {
   "cell_type": "markdown",
   "id": "da220972",
   "metadata": {},
   "source": [
    "# 4) 벡터화 시키기 \n",
    "- Smiles를 분자 구조로 해석해서 Mol 형식으로 변경 \n",
    "- Mol를 2048차원의 벡터로 변경 "
   ]
  },
  {
   "cell_type": "code",
   "execution_count": 11,
   "id": "b91ca0c8",
   "metadata": {},
   "outputs": [
    {
     "name": "stderr",
     "output_type": "stream",
     "text": [
      "100%|██████████| 1224/1224 [00:00<00:00, 12654.96it/s]\n"
     ]
    }
   ],
   "source": [
    "from rdkit import Chem\n",
    "from rdkit.Chem import AllChem, DataStructs\n",
    "import numpy as np\n",
    "from tqdm import tqdm\n",
    "\n",
    "tqdm.pandas()\n",
    "train_df['mol'] = train_df['Smiles'].progress_apply(Chem.MolFromSmiles)"
   ]
  },
  {
   "cell_type": "code",
   "execution_count": 12,
   "id": "8cdb9dbf",
   "metadata": {},
   "outputs": [
    {
     "data": {
      "text/html": [
       "<div>\n",
       "<style scoped>\n",
       "    .dataframe tbody tr th:only-of-type {\n",
       "        vertical-align: middle;\n",
       "    }\n",
       "\n",
       "    .dataframe tbody tr th {\n",
       "        vertical-align: top;\n",
       "    }\n",
       "\n",
       "    .dataframe thead th {\n",
       "        text-align: right;\n",
       "    }\n",
       "</style>\n",
       "<table border=\"1\" class=\"dataframe\">\n",
       "  <thead>\n",
       "    <tr style=\"text-align: right;\">\n",
       "      <th></th>\n",
       "      <th>Smiles</th>\n",
       "      <th>IC50_nM</th>\n",
       "      <th>log_IC50</th>\n",
       "      <th>mol</th>\n",
       "    </tr>\n",
       "  </thead>\n",
       "  <tbody>\n",
       "    <tr>\n",
       "      <th>0</th>\n",
       "      <td>CC1=CC(=C(C=C1S(=O)(=O)N)C(=O)NC2=CC=CC(=N2)C3...</td>\n",
       "      <td>0.00010</td>\n",
       "      <td>-4.000000</td>\n",
       "      <td>&lt;rdkit.Chem.rdchem.Mol object at 0x1776fb920&gt;</td>\n",
       "    </tr>\n",
       "    <tr>\n",
       "      <th>1</th>\n",
       "      <td>CCS(=O)(=O)NC1=CC(=C(C=C1)OC)C(=O)NC2=CC=CC(=N...</td>\n",
       "      <td>0.00032</td>\n",
       "      <td>-3.494850</td>\n",
       "      <td>&lt;rdkit.Chem.rdchem.Mol object at 0x1776fbb50&gt;</td>\n",
       "    </tr>\n",
       "    <tr>\n",
       "      <th>2</th>\n",
       "      <td>CNC(=O)C1CCN(CC1)C2=CN=C(C=C2N3C=C(N=C3)C4CC4)...</td>\n",
       "      <td>0.00040</td>\n",
       "      <td>-3.397940</td>\n",
       "      <td>&lt;rdkit.Chem.rdchem.Mol object at 0x1776fbbc0&gt;</td>\n",
       "    </tr>\n",
       "    <tr>\n",
       "      <th>3</th>\n",
       "      <td>CC1=CC(=C(C=C1C(=O)N)C(=O)NC2=CC=CC(=N2)C3=NN=...</td>\n",
       "      <td>0.00042</td>\n",
       "      <td>-3.376751</td>\n",
       "      <td>&lt;rdkit.Chem.rdchem.Mol object at 0x1776fbc30&gt;</td>\n",
       "    </tr>\n",
       "    <tr>\n",
       "      <th>4</th>\n",
       "      <td>CC12C(C(CC(O1)N3C4=CC=CC=C4C5=C6C(=C7C8=CC=CC=...</td>\n",
       "      <td>0.00069</td>\n",
       "      <td>-3.161151</td>\n",
       "      <td>&lt;rdkit.Chem.rdchem.Mol object at 0x1776fbca0&gt;</td>\n",
       "    </tr>\n",
       "  </tbody>\n",
       "</table>\n",
       "</div>"
      ],
      "text/plain": [
       "                                              Smiles  IC50_nM  log_IC50  \\\n",
       "0  CC1=CC(=C(C=C1S(=O)(=O)N)C(=O)NC2=CC=CC(=N2)C3...  0.00010 -4.000000   \n",
       "1  CCS(=O)(=O)NC1=CC(=C(C=C1)OC)C(=O)NC2=CC=CC(=N...  0.00032 -3.494850   \n",
       "2  CNC(=O)C1CCN(CC1)C2=CN=C(C=C2N3C=C(N=C3)C4CC4)...  0.00040 -3.397940   \n",
       "3  CC1=CC(=C(C=C1C(=O)N)C(=O)NC2=CC=CC(=N2)C3=NN=...  0.00042 -3.376751   \n",
       "4  CC12C(C(CC(O1)N3C4=CC=CC=C4C5=C6C(=C7C8=CC=CC=...  0.00069 -3.161151   \n",
       "\n",
       "                                             mol  \n",
       "0  <rdkit.Chem.rdchem.Mol object at 0x1776fb920>  \n",
       "1  <rdkit.Chem.rdchem.Mol object at 0x1776fbb50>  \n",
       "2  <rdkit.Chem.rdchem.Mol object at 0x1776fbbc0>  \n",
       "3  <rdkit.Chem.rdchem.Mol object at 0x1776fbc30>  \n",
       "4  <rdkit.Chem.rdchem.Mol object at 0x1776fbca0>  "
      ]
     },
     "execution_count": 12,
     "metadata": {},
     "output_type": "execute_result"
    }
   ],
   "source": [
    "train_df.head()"
   ]
  },
  {
   "cell_type": "code",
   "execution_count": 13,
   "id": "47163667",
   "metadata": {},
   "outputs": [
    {
     "name": "stdout",
     "output_type": "stream",
     "text": [
      "Bin 59:90.0 sample, Range:0.98 ~ 1.06\n",
      "Bin 62:109.0 sample, Range:1.23 ~ 1.32\n"
     ]
    }
   ],
   "source": [
    "import matplotlib.pyplot as plt\n",
    "counts, bins, _ = plt.hist(train_df[\"log_IC50\"], bins=100)\n",
    "plt.close()\n",
    "\n",
    "for i, count in enumerate(counts):\n",
    "    if count > 80:\n",
    "        print(f\"Bin {i}:{count} sample, Range:{bins[i]:.2f} ~ {bins[i+1]:.2f}\")\n",
    "    \n"
   ]
  },
  {
   "cell_type": "code",
   "execution_count": 14,
   "id": "471199ec",
   "metadata": {},
   "outputs": [],
   "source": [
    "to_remove = (\n",
    "    train_df[\"log_IC50\"].between(0.9, 1.4) |\n",
    "    train_df[\"log_IC50\"].between(-0.1, 0.4)  # 0 부근 피크도 제거\n",
    ")\n",
    "\n",
    "train_df = train_df[~to_remove].reset_index(drop=True)"
   ]
  },
  {
   "cell_type": "code",
   "execution_count": 15,
   "id": "3bcf3029",
   "metadata": {},
   "outputs": [
    {
     "name": "stderr",
     "output_type": "stream",
     "text": [
      "100%|██████████| 836/836 [00:00<00:00, 3776.85it/s]\n"
     ]
    }
   ],
   "source": [
    "from rdkit.Chem import Descriptors\n",
    "\n",
    "def compute_descriptors(mol):\n",
    "    return {\n",
    "        'MolWt': Descriptors.MolWt(mol),\n",
    "        'LogP': Descriptors.MolLogP(mol),\n",
    "        'NumHDonors': Descriptors.NumHDonors(mol),\n",
    "        'NumHAcceptors': Descriptors.NumHAcceptors(mol),\n",
    "        'TPSA': Descriptors.TPSA(mol),\n",
    "        'NumRotatableBonds': Descriptors.NumRotatableBonds(mol)\n",
    "    }\n",
    "\n",
    "desc_df = train_df['mol'].progress_apply(compute_descriptors).apply(pd.Series)\n"
   ]
  },
  {
   "cell_type": "code",
   "execution_count": 16,
   "id": "fd4f945a",
   "metadata": {},
   "outputs": [],
   "source": [
    "# Fingerprint를 벡터로 변환하는 함수\n",
    "def mol_to_fp(mol, n_bits=2048):\n",
    "    arr = np.zeros((1,), dtype=int)\n",
    "    if mol:\n",
    "        fp = AllChem.GetMorganFingerprintAsBitVect(mol, radius=2, nBits=n_bits)\n",
    "        DataStructs.ConvertToNumpyArray(fp, arr)\n",
    "    return arr"
   ]
  },
  {
   "cell_type": "code",
   "execution_count": 17,
   "id": "9d3772ea",
   "metadata": {},
   "outputs": [
    {
     "name": "stderr",
     "output_type": "stream",
     "text": [
      "100%|██████████| 836/836 [00:00<00:00, 19737.01it/s]\n"
     ]
    }
   ],
   "source": [
    "X_fp = np.array([mol_to_fp(m) for m in tqdm(train_df['mol'])])\n",
    "X_combined = np.concatenate([X_fp, desc_df.to_numpy()], axis=1)\n",
    "\n",
    "X = X_combined\n",
    "y = train_df[\"log_IC50\"].values"
   ]
  },
  {
   "cell_type": "markdown",
   "id": "6d830db2",
   "metadata": {},
   "source": [
    "# 5) Train, Test 데이터 추출"
   ]
  },
  {
   "cell_type": "code",
   "execution_count": 18,
   "id": "0bee9735",
   "metadata": {},
   "outputs": [],
   "source": [
    "from sklearn.model_selection import train_test_split\n",
    "\n",
    "X_train, X_test, y_train, y_test = train_test_split(\n",
    "    X, y, random_state=42, test_size=0.2\n",
    ")"
   ]
  },
  {
   "cell_type": "markdown",
   "id": "ba1b6a98",
   "metadata": {},
   "source": [
    "# 6) 모델 학습 및 평가"
   ]
  },
  {
   "cell_type": "code",
   "execution_count": null,
   "id": "a16bbd39",
   "metadata": {},
   "outputs": [
    {
     "name": "stderr",
     "output_type": "stream",
     "text": [
      "[I 2025-08-16 01:45:42,828] A new study created in memory with name: no-name-bbb3b0bb-810b-4ec6-8ad6-3c35d31b127d\n",
      "[I 2025-08-16 01:45:44,799] Trial 0 finished with value: 0.20569111712322546 and parameters: {'n_bits': 1024, 'n_estimators': 974, 'max_depth': 26, 'min_samples_split': 7, 'min_samples_leaf': 6, 'max_features': 'log2'}. Best is trial 0 with value: 0.20569111712322546.\n",
      "[I 2025-08-16 01:45:46,467] Trial 1 finished with value: 0.2315585450966462 and parameters: {'n_bits': 1024, 'n_estimators': 784, 'max_depth': 26, 'min_samples_split': 3, 'min_samples_leaf': 4, 'max_features': 'log2'}. Best is trial 1 with value: 0.2315585450966462.\n",
      "[I 2025-08-16 01:45:47,809] Trial 2 finished with value: 0.2691289386656802 and parameters: {'n_bits': 4096, 'n_estimators': 597, 'max_depth': 28, 'min_samples_split': 9, 'min_samples_leaf': 3, 'max_features': 'sqrt'}. Best is trial 2 with value: 0.2691289386656802.\n",
      "[I 2025-08-16 01:45:49,434] Trial 3 finished with value: 0.19457646170471848 and parameters: {'n_bits': 1024, 'n_estimators': 290, 'max_depth': 12, 'min_samples_split': 8, 'min_samples_leaf': 4, 'max_features': None}. Best is trial 2 with value: 0.2691289386656802.\n",
      "[I 2025-08-16 01:45:54,944] Trial 4 finished with value: 0.22590039793146408 and parameters: {'n_bits': 4096, 'n_estimators': 637, 'max_depth': 22, 'min_samples_split': 7, 'min_samples_leaf': 9, 'max_features': None}. Best is trial 2 with value: 0.2691289386656802.\n"
     ]
    }
   ],
   "source": [
    "import optuna\n",
    "\n",
    "from sklearn.ensemble import  RandomForestRegressor\n",
    "from sklearn.model_selection import cross_val_score\n",
    "\n",
    "\n",
    "\n",
    "def objective(trial):\n",
    "    params = {\n",
    "        \"n_estimators\": trial.suggest_int(\"n_estimators\", 100, 1000),\n",
    "        \"max_depth\": trial.suggest_int(\"max_depth\", 5, 30),\n",
    "        \"min_samples_split\": trial.suggest_int(\"min_samples_split\", 2, 10),\n",
    "        \"min_samples_leaf\": trial.suggest_int(\"min_samples_leaf\", 1, 10),\n",
    "        \"max_features\": trial.suggest_categorical(\"max_features\", [\"sqrt\", \"log2\", None]),\n",
    "    }\n",
    "\n",
    "\n",
    "    model = RandomForestRegressor(**params, random_state=42, n_jobs=-1)\n",
    "    score = cross_val_score(model, X_train, y_train, cv=2, scoring=\"r2\").mean()\n",
    "    return score\n",
    "\n",
    "study = optuna.create_study(direction=\"maximize\")\n",
    "study.optimize(objective, n_trials=50)\n",
    "\n",
    "\n",
    "best_params = study.best_trial.params\n",
    "model = RandomForestRegressor(**best_params, random_state=42)\n",
    "model.fit(X_train, y_train)\n",
    "pred = model.predict(X_test)\n"
   ]
  },
  {
   "cell_type": "code",
   "execution_count": null,
   "id": "3e9abdf1",
   "metadata": {},
   "outputs": [
    {
     "name": "stdout",
     "output_type": "stream",
     "text": [
      "mean_absolute_error: 1.124472427042532\n",
      "mean_squared_error: 2.0697075431168606\n",
      "r2_score: 0.2575695982255831\n"
     ]
    }
   ],
   "source": [
    "from sklearn.metrics import mean_absolute_error, mean_squared_error, r2_score\n",
    "import joblib\n",
    "\n",
    "\n",
    "print(f\"mean_absolute_error: {mean_absolute_error(y_test, pred)}\")\n",
    "print(f\"mean_squared_error: {mean_squared_error(y_test, pred)}\")\n",
    "print(f\"r2_score: {r2_score(y_test, pred)}\")"
   ]
  },
  {
   "cell_type": "code",
   "execution_count": null,
   "id": "a818b867",
   "metadata": {},
   "outputs": [
    {
     "ename": "ValueError",
     "evalue": "could not convert string to float: 'CC(C)n1cnnc1c2cccc(n2)N3C=Cc4ccc(Br)cc4C3=O'",
     "output_type": "error",
     "traceback": [
      "\u001b[0;31m---------------------------------------------------------------------------\u001b[0m",
      "\u001b[0;31mValueError\u001b[0m                                Traceback (most recent call last)",
      "Cell \u001b[0;32mIn[24], line 15\u001b[0m\n\u001b[1;32m     10\u001b[0m sample \u001b[38;5;241m=\u001b[39m pd\u001b[38;5;241m.\u001b[39mread_csv(\u001b[38;5;124m\"\u001b[39m\u001b[38;5;124mdata/sample_submission.csv\u001b[39m\u001b[38;5;124m\"\u001b[39m)\n\u001b[1;32m     12\u001b[0m \u001b[38;5;66;03m# 3) 예측 (학습 때 넣던 입력 형태 그대로 넣기)\u001b[39;00m\n\u001b[1;32m     13\u001b[0m \u001b[38;5;66;03m#   - 학습 때 pipe.fit(X_train_df) 형태였다면 DataFrame 그대로\u001b[39;00m\n\u001b[1;32m     14\u001b[0m \u001b[38;5;66;03m#   - 학습 때 pipe.fit(smiles_series) 였다면 test[\"Smiles\"] 만 넣기\u001b[39;00m\n\u001b[0;32m---> 15\u001b[0m pred_log \u001b[38;5;241m=\u001b[39m \u001b[43mpipe\u001b[49m\u001b[38;5;241;43m.\u001b[39;49m\u001b[43mpredict\u001b[49m\u001b[43m(\u001b[49m\u001b[43mtest\u001b[49m\u001b[43m[\u001b[49m\u001b[38;5;124;43m\"\u001b[39;49m\u001b[38;5;124;43mSmiles\u001b[39;49m\u001b[38;5;124;43m\"\u001b[39;49m\u001b[43m]\u001b[49m\u001b[38;5;241;43m.\u001b[39;49m\u001b[43mastype\u001b[49m\u001b[43m(\u001b[49m\u001b[38;5;28;43mstr\u001b[39;49m\u001b[43m)\u001b[49m\u001b[43m)\u001b[49m  \u001b[38;5;66;03m# 필요시 test[\"Smiles\"]\u001b[39;00m\n\u001b[1;32m     17\u001b[0m \u001b[38;5;66;03m# 4) 제출 포맷 맞추기 (샘플의 마지막 열을 타깃으로 가정)\u001b[39;00m\n\u001b[1;32m     18\u001b[0m target_col \u001b[38;5;241m=\u001b[39m sample\u001b[38;5;241m.\u001b[39mcolumns[\u001b[38;5;241m-\u001b[39m\u001b[38;5;241m1\u001b[39m]\n",
      "File \u001b[0;32m~/PythonProjects/protein_ml/.venv/lib/python3.10/site-packages/sklearn/ensemble/_forest.py:1065\u001b[0m, in \u001b[0;36mForestRegressor.predict\u001b[0;34m(self, X)\u001b[0m\n\u001b[1;32m   1063\u001b[0m check_is_fitted(\u001b[38;5;28mself\u001b[39m)\n\u001b[1;32m   1064\u001b[0m \u001b[38;5;66;03m# Check data\u001b[39;00m\n\u001b[0;32m-> 1065\u001b[0m X \u001b[38;5;241m=\u001b[39m \u001b[38;5;28;43mself\u001b[39;49m\u001b[38;5;241;43m.\u001b[39;49m\u001b[43m_validate_X_predict\u001b[49m\u001b[43m(\u001b[49m\u001b[43mX\u001b[49m\u001b[43m)\u001b[49m\n\u001b[1;32m   1067\u001b[0m \u001b[38;5;66;03m# Assign chunk of trees to jobs\u001b[39;00m\n\u001b[1;32m   1068\u001b[0m n_jobs, _, _ \u001b[38;5;241m=\u001b[39m _partition_estimators(\u001b[38;5;28mself\u001b[39m\u001b[38;5;241m.\u001b[39mn_estimators, \u001b[38;5;28mself\u001b[39m\u001b[38;5;241m.\u001b[39mn_jobs)\n",
      "File \u001b[0;32m~/PythonProjects/protein_ml/.venv/lib/python3.10/site-packages/sklearn/ensemble/_forest.py:637\u001b[0m, in \u001b[0;36mBaseForest._validate_X_predict\u001b[0;34m(self, X)\u001b[0m\n\u001b[1;32m    634\u001b[0m \u001b[38;5;28;01melse\u001b[39;00m:\n\u001b[1;32m    635\u001b[0m     ensure_all_finite \u001b[38;5;241m=\u001b[39m \u001b[38;5;28;01mTrue\u001b[39;00m\n\u001b[0;32m--> 637\u001b[0m X \u001b[38;5;241m=\u001b[39m \u001b[43mvalidate_data\u001b[49m\u001b[43m(\u001b[49m\n\u001b[1;32m    638\u001b[0m \u001b[43m    \u001b[49m\u001b[38;5;28;43mself\u001b[39;49m\u001b[43m,\u001b[49m\n\u001b[1;32m    639\u001b[0m \u001b[43m    \u001b[49m\u001b[43mX\u001b[49m\u001b[43m,\u001b[49m\n\u001b[1;32m    640\u001b[0m \u001b[43m    \u001b[49m\u001b[43mdtype\u001b[49m\u001b[38;5;241;43m=\u001b[39;49m\u001b[43mDTYPE\u001b[49m\u001b[43m,\u001b[49m\n\u001b[1;32m    641\u001b[0m \u001b[43m    \u001b[49m\u001b[43maccept_sparse\u001b[49m\u001b[38;5;241;43m=\u001b[39;49m\u001b[38;5;124;43m\"\u001b[39;49m\u001b[38;5;124;43mcsr\u001b[39;49m\u001b[38;5;124;43m\"\u001b[39;49m\u001b[43m,\u001b[49m\n\u001b[1;32m    642\u001b[0m \u001b[43m    \u001b[49m\u001b[43mreset\u001b[49m\u001b[38;5;241;43m=\u001b[39;49m\u001b[38;5;28;43;01mFalse\u001b[39;49;00m\u001b[43m,\u001b[49m\n\u001b[1;32m    643\u001b[0m \u001b[43m    \u001b[49m\u001b[43mensure_all_finite\u001b[49m\u001b[38;5;241;43m=\u001b[39;49m\u001b[43mensure_all_finite\u001b[49m\u001b[43m,\u001b[49m\n\u001b[1;32m    644\u001b[0m \u001b[43m\u001b[49m\u001b[43m)\u001b[49m\n\u001b[1;32m    645\u001b[0m \u001b[38;5;28;01mif\u001b[39;00m issparse(X) \u001b[38;5;129;01mand\u001b[39;00m (X\u001b[38;5;241m.\u001b[39mindices\u001b[38;5;241m.\u001b[39mdtype \u001b[38;5;241m!=\u001b[39m np\u001b[38;5;241m.\u001b[39mintc \u001b[38;5;129;01mor\u001b[39;00m X\u001b[38;5;241m.\u001b[39mindptr\u001b[38;5;241m.\u001b[39mdtype \u001b[38;5;241m!=\u001b[39m np\u001b[38;5;241m.\u001b[39mintc):\n\u001b[1;32m    646\u001b[0m     \u001b[38;5;28;01mraise\u001b[39;00m \u001b[38;5;167;01mValueError\u001b[39;00m(\u001b[38;5;124m\"\u001b[39m\u001b[38;5;124mNo support for np.int64 index based sparse matrices\u001b[39m\u001b[38;5;124m\"\u001b[39m)\n",
      "File \u001b[0;32m~/PythonProjects/protein_ml/.venv/lib/python3.10/site-packages/sklearn/utils/validation.py:2954\u001b[0m, in \u001b[0;36mvalidate_data\u001b[0;34m(_estimator, X, y, reset, validate_separately, skip_check_array, **check_params)\u001b[0m\n\u001b[1;32m   2952\u001b[0m         out \u001b[38;5;241m=\u001b[39m X, y\n\u001b[1;32m   2953\u001b[0m \u001b[38;5;28;01melif\u001b[39;00m \u001b[38;5;129;01mnot\u001b[39;00m no_val_X \u001b[38;5;129;01mand\u001b[39;00m no_val_y:\n\u001b[0;32m-> 2954\u001b[0m     out \u001b[38;5;241m=\u001b[39m \u001b[43mcheck_array\u001b[49m\u001b[43m(\u001b[49m\u001b[43mX\u001b[49m\u001b[43m,\u001b[49m\u001b[43m \u001b[49m\u001b[43minput_name\u001b[49m\u001b[38;5;241;43m=\u001b[39;49m\u001b[38;5;124;43m\"\u001b[39;49m\u001b[38;5;124;43mX\u001b[39;49m\u001b[38;5;124;43m\"\u001b[39;49m\u001b[43m,\u001b[49m\u001b[43m \u001b[49m\u001b[38;5;241;43m*\u001b[39;49m\u001b[38;5;241;43m*\u001b[39;49m\u001b[43mcheck_params\u001b[49m\u001b[43m)\u001b[49m\n\u001b[1;32m   2955\u001b[0m \u001b[38;5;28;01melif\u001b[39;00m no_val_X \u001b[38;5;129;01mand\u001b[39;00m \u001b[38;5;129;01mnot\u001b[39;00m no_val_y:\n\u001b[1;32m   2956\u001b[0m     out \u001b[38;5;241m=\u001b[39m _check_y(y, \u001b[38;5;241m*\u001b[39m\u001b[38;5;241m*\u001b[39mcheck_params)\n",
      "File \u001b[0;32m~/PythonProjects/protein_ml/.venv/lib/python3.10/site-packages/sklearn/utils/validation.py:1053\u001b[0m, in \u001b[0;36mcheck_array\u001b[0;34m(array, accept_sparse, accept_large_sparse, dtype, order, copy, force_writeable, force_all_finite, ensure_all_finite, ensure_non_negative, ensure_2d, allow_nd, ensure_min_samples, ensure_min_features, estimator, input_name)\u001b[0m\n\u001b[1;32m   1051\u001b[0m         array \u001b[38;5;241m=\u001b[39m xp\u001b[38;5;241m.\u001b[39mastype(array, dtype, copy\u001b[38;5;241m=\u001b[39m\u001b[38;5;28;01mFalse\u001b[39;00m)\n\u001b[1;32m   1052\u001b[0m     \u001b[38;5;28;01melse\u001b[39;00m:\n\u001b[0;32m-> 1053\u001b[0m         array \u001b[38;5;241m=\u001b[39m \u001b[43m_asarray_with_order\u001b[49m\u001b[43m(\u001b[49m\u001b[43marray\u001b[49m\u001b[43m,\u001b[49m\u001b[43m \u001b[49m\u001b[43morder\u001b[49m\u001b[38;5;241;43m=\u001b[39;49m\u001b[43morder\u001b[49m\u001b[43m,\u001b[49m\u001b[43m \u001b[49m\u001b[43mdtype\u001b[49m\u001b[38;5;241;43m=\u001b[39;49m\u001b[43mdtype\u001b[49m\u001b[43m,\u001b[49m\u001b[43m \u001b[49m\u001b[43mxp\u001b[49m\u001b[38;5;241;43m=\u001b[39;49m\u001b[43mxp\u001b[49m\u001b[43m)\u001b[49m\n\u001b[1;32m   1054\u001b[0m \u001b[38;5;28;01mexcept\u001b[39;00m ComplexWarning \u001b[38;5;28;01mas\u001b[39;00m complex_warning:\n\u001b[1;32m   1055\u001b[0m     \u001b[38;5;28;01mraise\u001b[39;00m \u001b[38;5;167;01mValueError\u001b[39;00m(\n\u001b[1;32m   1056\u001b[0m         \u001b[38;5;124m\"\u001b[39m\u001b[38;5;124mComplex data not supported\u001b[39m\u001b[38;5;130;01m\\n\u001b[39;00m\u001b[38;5;132;01m{}\u001b[39;00m\u001b[38;5;130;01m\\n\u001b[39;00m\u001b[38;5;124m\"\u001b[39m\u001b[38;5;241m.\u001b[39mformat(array)\n\u001b[1;32m   1057\u001b[0m     ) \u001b[38;5;28;01mfrom\u001b[39;00m\u001b[38;5;250m \u001b[39m\u001b[38;5;21;01mcomplex_warning\u001b[39;00m\n",
      "File \u001b[0;32m~/PythonProjects/protein_ml/.venv/lib/python3.10/site-packages/sklearn/utils/_array_api.py:757\u001b[0m, in \u001b[0;36m_asarray_with_order\u001b[0;34m(array, dtype, order, copy, xp, device)\u001b[0m\n\u001b[1;32m    755\u001b[0m     array \u001b[38;5;241m=\u001b[39m numpy\u001b[38;5;241m.\u001b[39marray(array, order\u001b[38;5;241m=\u001b[39morder, dtype\u001b[38;5;241m=\u001b[39mdtype)\n\u001b[1;32m    756\u001b[0m \u001b[38;5;28;01melse\u001b[39;00m:\n\u001b[0;32m--> 757\u001b[0m     array \u001b[38;5;241m=\u001b[39m \u001b[43mnumpy\u001b[49m\u001b[38;5;241;43m.\u001b[39;49m\u001b[43masarray\u001b[49m\u001b[43m(\u001b[49m\u001b[43marray\u001b[49m\u001b[43m,\u001b[49m\u001b[43m \u001b[49m\u001b[43morder\u001b[49m\u001b[38;5;241;43m=\u001b[39;49m\u001b[43morder\u001b[49m\u001b[43m,\u001b[49m\u001b[43m \u001b[49m\u001b[43mdtype\u001b[49m\u001b[38;5;241;43m=\u001b[39;49m\u001b[43mdtype\u001b[49m\u001b[43m)\u001b[49m\n\u001b[1;32m    759\u001b[0m \u001b[38;5;66;03m# At this point array is a NumPy ndarray. We convert it to an array\u001b[39;00m\n\u001b[1;32m    760\u001b[0m \u001b[38;5;66;03m# container that is consistent with the input's namespace.\u001b[39;00m\n\u001b[1;32m    761\u001b[0m \u001b[38;5;28;01mreturn\u001b[39;00m xp\u001b[38;5;241m.\u001b[39masarray(array)\n",
      "File \u001b[0;32m~/PythonProjects/protein_ml/.venv/lib/python3.10/site-packages/pandas/core/series.py:1033\u001b[0m, in \u001b[0;36mSeries.__array__\u001b[0;34m(self, dtype, copy)\u001b[0m\n\u001b[1;32m   1030\u001b[0m values \u001b[38;5;241m=\u001b[39m \u001b[38;5;28mself\u001b[39m\u001b[38;5;241m.\u001b[39m_values\n\u001b[1;32m   1031\u001b[0m \u001b[38;5;28;01mif\u001b[39;00m copy \u001b[38;5;129;01mis\u001b[39;00m \u001b[38;5;28;01mNone\u001b[39;00m:\n\u001b[1;32m   1032\u001b[0m     \u001b[38;5;66;03m# Note: branch avoids `copy=None` for NumPy 1.x support\u001b[39;00m\n\u001b[0;32m-> 1033\u001b[0m     arr \u001b[38;5;241m=\u001b[39m \u001b[43mnp\u001b[49m\u001b[38;5;241;43m.\u001b[39;49m\u001b[43masarray\u001b[49m\u001b[43m(\u001b[49m\u001b[43mvalues\u001b[49m\u001b[43m,\u001b[49m\u001b[43m \u001b[49m\u001b[43mdtype\u001b[49m\u001b[38;5;241;43m=\u001b[39;49m\u001b[43mdtype\u001b[49m\u001b[43m)\u001b[49m\n\u001b[1;32m   1034\u001b[0m \u001b[38;5;28;01melse\u001b[39;00m:\n\u001b[1;32m   1035\u001b[0m     arr \u001b[38;5;241m=\u001b[39m np\u001b[38;5;241m.\u001b[39marray(values, dtype\u001b[38;5;241m=\u001b[39mdtype, copy\u001b[38;5;241m=\u001b[39mcopy)\n",
      "\u001b[0;31mValueError\u001b[0m: could not convert string to float: 'CC(C)n1cnnc1c2cccc(n2)N3C=Cc4ccc(Br)cc4C3=O'"
     ]
    }
   ],
   "source": [
    "import numpy as np\n",
    "import pandas as pd\n",
    "from joblib import load\n",
    "\n",
    "# 1) 불러오기: 전처리(피처 생성)까지 포함된 Pipeline이어야 함\n",
    "model = load(\"model_r2_3333.pkl\")   # 예: ColumnTransformer/Hashing/RDKit 포함 Pipeline\n",
    "\n",
    "# 2) 데이터 읽기\n",
    "test = pd.read_csv(\"data/test.csv\")\n",
    "sample = pd.read_csv(\"data/sample_submission.csv\")\n",
    "\n",
    "# 3) 예측 (학습 때 넣던 입력 형태 그대로 넣기)\n",
    "#   - 학습 때 pipe.fit(X_train_df) 형태였다면 DataFrame 그대로\n",
    "#   - 학습 때 pipe.fit(smiles_series) 였다면 test[\"Smiles\"] 만 넣기\n",
    "model_log = model.predict(test[\"Smiles\"])  # 필요시 test[\"Smiles\"]\n",
    "\n",
    "# 4) 제출 포맷 맞추기 (샘플의 마지막 열을 타깃으로 가정)\n",
    "target_col = sample.columns[-1]\n",
    "# 대회가 IC50(nM) 제출이면 로그 → 원단위로 복원\n",
    "if \"IC50\" in target_col.upper():\n",
    "    pred_out = np.clip(np.power(10.0, model_log), 1e-6, None)\n",
    "else:\n",
    "    pred_out = model_log\n",
    "\n",
    "sample[target_col] = pred_out\n",
    "sample.to_csv(\"submission.csv\", index=False)\n",
    "print(\"Saved: submission.csv\")"
   ]
  },
  {
   "cell_type": "code",
   "execution_count": 26,
   "id": "8c6e7640",
   "metadata": {},
   "outputs": [
    {
     "name": "stdout",
     "output_type": "stream",
     "text": [
      "Saved: data/submission.csv\n"
     ]
    }
   ],
   "source": [
    "# submit_from_saved_model.py\n",
    "import numpy as np\n",
    "import pandas as pd\n",
    "from joblib import load\n",
    "\n",
    "# ====== 0) 네 환경에 맞게 설정 ======\n",
    "MODEL_PATH = \"model_r2_3333.pkl\"   # 저장해둔 모델 파일명\n",
    "FEATURE_MODE = \"fp_desc\"         # \"fp_desc\" | \"desc\" | \"hashing\"\n",
    "N_BITS = 2048                    # Morgan FP 차원 (훈련과 동일)\n",
    "RADIUS = 2                       # Morgan FP 반경 (훈련과 동일)\n",
    "HASHING_PATH = \"smiles_hashing_vectorizer.joblib\"   # FEATURE_MODE=\"hashing\"일 때만 사용\n",
    "\n",
    "TEST_CSV = \"data/test.csv\"\n",
    "SAMPLE_CSV = \"data/sample_submission.csv\"\n",
    "OUT_CSV = \"data/submission.csv\"\n",
    "\n",
    "# ====== 1) 데이터 읽기 ======\n",
    "test = pd.read_csv(TEST_CSV, low_memory=False)\n",
    "sample = pd.read_csv(SAMPLE_CSV, low_memory=False)\n",
    "\n",
    "# Smiles 컬럼 이름 맞추기\n",
    "if \"Smiles\" in test.columns:\n",
    "    smiles = test[\"Smiles\"].astype(str).str.strip()\n",
    "elif \"SMILES\" in test.columns:\n",
    "    smiles = test[\"SMILES\"].astype(str).str.strip()\n",
    "else:\n",
    "    # 첫 번째 피처열이 Smiles라면 필요시 수정\n",
    "    smiles = test.iloc[:, 1].astype(str).str.strip()\n",
    "\n",
    "# ====== 2) 피처 생성 함수들 ======\n",
    "def compute_descriptors_from_smiles(smiles_series):\n",
    "    from rdkit import Chem\n",
    "    from rdkit.Chem import Descriptors\n",
    "    rows = []\n",
    "    for s in smiles_series:\n",
    "        m = Chem.MolFromSmiles(s)\n",
    "        if m is None:\n",
    "            rows.append({\n",
    "                'MolWt': 0.0, 'LogP': 0.0, 'NumHDonors': 0, 'NumHAcceptors': 0,\n",
    "                'TPSA': 0.0, 'NumRotatableBonds': 0\n",
    "            })\n",
    "            continue\n",
    "        rows.append({\n",
    "            'MolWt': Descriptors.MolWt(m),\n",
    "            'LogP': Descriptors.MolLogP(m),\n",
    "            'NumHDonors': Descriptors.NumHDonors(m),\n",
    "            'NumHAcceptors': Descriptors.NumHAcceptors(m),\n",
    "            'TPSA': Descriptors.TPSA(m),\n",
    "            'NumRotatableBonds': Descriptors.NumRotatableBonds(m)\n",
    "        })\n",
    "    return pd.DataFrame(rows)\n",
    "\n",
    "def morgan_fp_from_smiles(smiles_series, n_bits=2048, radius=2):\n",
    "    from rdkit import Chem\n",
    "    from rdkit.Chem import AllChem, DataStructs\n",
    "    X = np.zeros((len(smiles_series), n_bits), dtype=np.uint8)\n",
    "    for i, s in enumerate(smiles_series):\n",
    "        m = Chem.MolFromSmiles(s)\n",
    "        if m is None:\n",
    "            continue\n",
    "        fp = AllChem.GetMorganFingerprintAsBitVect(m, radius=radius, nBits=n_bits)\n",
    "        arr = np.zeros((n_bits,), dtype=int)\n",
    "        DataStructs.ConvertToNumpyArray(fp, arr)\n",
    "        X[i] = arr\n",
    "    return X\n",
    "\n",
    "# ====== 3) 테스트 피처 구성 (훈련과 '동일하게') ======\n",
    "if FEATURE_MODE == \"fp_desc\":\n",
    "    # 훈련 때 X = [MorganFP, RDKit Descriptors]였다면\n",
    "    X_fp = morgan_fp_from_smiles(smiles, n_bits=N_BITS, radius=RADIUS)\n",
    "    X_desc = compute_descriptors_from_smiles(smiles).to_numpy(dtype=np.float32)\n",
    "    X_test = np.concatenate([X_fp, X_desc], axis=1).astype(np.float32)\n",
    "\n",
    "elif FEATURE_MODE == \"desc\":\n",
    "    # 훈련 때 디스크립터만 썼다면\n",
    "    X_test = compute_descriptors_from_smiles(smiles).to_numpy(dtype=np.float32)\n",
    "\n",
    "elif FEATURE_MODE == \"hashing\":\n",
    "    # 훈련 때 Hashing/Tfidf 벡터라이저를 썼고 따로 저장해 두었을 때\n",
    "    hv = load(HASHING_PATH)   # 예: HashingVectorizer/TfidfVectorizer\n",
    "    X_test = hv.transform(smiles).astype(\"float32\")\n",
    "\n",
    "else:\n",
    "    raise ValueError(\"FEATURE_MODE must be one of {'fp_desc','desc','hashing'}\")\n",
    "\n",
    "# ====== 4) 모델 로드 & 차원 점검 ======\n",
    "model = load(MODEL_PATH)\n",
    "\n",
    "# scikit-learn 추정기면 보통 n_features_in_가 있음: 차원 확인(디버깅 도움)\n",
    "n_model_feats = getattr(model, \"n_features_in_\", None)\n",
    "if n_model_feats is not None and X_test.shape[1] != n_model_feats:\n",
    "    raise ValueError(\n",
    "        f\"피처 차원 불일치: X_test has {X_test.shape[1]} cols, model expects {n_model_feats}. \"\n",
    "        f\"FEATURE_MODE/N_BITS/RADIUS/피처 구성을 훈련과 동일하게 맞추세요.\"\n",
    "    )\n",
    "\n",
    "# ====== 5) 예측 & 제출 파일 ======\n",
    "# 보통 log10(IC50_nM)로 학습했을 것이므로 pred_log라 가정\n",
    "pred_log = model.predict(X_test)\n",
    "\n",
    "target_col = sample.columns[-1]\n",
    "# 샘플 타깃 명에 IC50이 들어있으면 원단위로 역변환\n",
    "if \"IC50\" in target_col.upper():\n",
    "    pred_out = np.clip(np.power(10.0, pred_log), 1e-6, None)\n",
    "else:\n",
    "    pred_out = pred_log\n",
    "\n",
    "sample[target_col] = pred_out\n",
    "sample.to_csv(OUT_CSV, index=False)\n",
    "print(f\"Saved: {OUT_CSV}\")\n"
   ]
  }
 ],
 "metadata": {
  "kernelspec": {
   "display_name": "protein_ml",
   "language": "python",
   "name": "python3"
  },
  "language_info": {
   "codemirror_mode": {
    "name": "ipython",
    "version": 3
   },
   "file_extension": ".py",
   "mimetype": "text/x-python",
   "name": "python",
   "nbconvert_exporter": "python",
   "pygments_lexer": "ipython3",
   "version": "3.10.18"
  }
 },
 "nbformat": 4,
 "nbformat_minor": 5
}
