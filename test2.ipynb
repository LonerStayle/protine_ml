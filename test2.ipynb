{
 "cells": [
  {
   "cell_type": "code",
   "execution_count": 4,
   "id": "1cccce6b",
   "metadata": {},
   "outputs": [],
   "source": [
    "import pandas as pd, numpy as np, random, os\n",
    "from rdkit import Chem  # 분자 구조 처리\n",
    "from rdkit.Chem import AllChem, DataStructs, Descriptors  # 분자 특징 추출\n",
    "from sklearn.preprocessing import StandardScaler\n",
    "from sklearn.model_selection import KFold\n",
    "import lightgbm as lgb\n",
    "from sklearn.metrics import r2_score, mean_squared_error\n",
    "import optuna"
   ]
  },
  {
   "cell_type": "code",
   "execution_count": 5,
   "id": "323be7e1",
   "metadata": {},
   "outputs": [],
   "source": [
    "CFG = {\n",
    "    'NBITS' : 2048,\n",
    "    'SEED':42,\n",
    "    'N_SPLITES':5,\n",
    "    'N_TRIALS':50\n",
    "}"
   ]
  },
  {
   "cell_type": "code",
   "execution_count": 6,
   "id": "c7dc15b2",
   "metadata": {},
   "outputs": [],
   "source": [
    "def seed_everything(seed):\n",
    "    random.seed(seed)\n",
    "    os.environ['PYTHONHASHSEED'] = str(seed)\n",
    "    np.random.seed(seed)\n",
    "    \n",
    "seed_everything(CFG['SEED'])"
   ]
  },
  {
   "cell_type": "code",
   "execution_count": 7,
   "id": "ed8d9378",
   "metadata": {},
   "outputs": [],
   "source": [
    "def load_and_preprocess_data():\n",
    "    chembl = pd.read_csv('data/ChEMBL_ASK1(IC50).csv')\n",
    "    pubchem = pd.read_csv('data/Pubchem_ASK1.csv')\n",
    "    chembl.columns = chembl.columns.str.strip().str.replace(\",\")\n",
    "    \n",
    "    chembl = chembl[chembl['Standard Type'] == 'IC50']\n",
    "    chembl = chembl[['Smiles', 'Standard Value']].rename(columns={'Smiles': 'smiles', 'Standard Value': 'ic50_nM'})\n",
    "    chembl['ic50_nM'] = pd.to_numeric(chembl['ic50_nM'], errors='coerce')\n",
    "\n",
    "    pubchem = pubchem[['SMILES', 'Activity_Value']].rename(columns={'SMILES': 'smiles', 'Activity_Value': 'ic50_nM'})\n",
    "    pubchem['ic50_nM'] = pd.to_numeric(pubchem['ic50_nM'], errors='coerce')\n",
    "\n",
    "    df = pd.concat([chembl, pubchem], ignore_index=True).dropna(subset=['smiles', 'ic50_nM'])\n",
    "    df = df.drop_duplicates(subset='smiles').reset_index(drop=True)\n",
    "    df = df[df['ic50_nM'] > 0]\n",
    "    return df\n",
    "    "
   ]
  },
  {
   "cell_type": "code",
   "execution_count": null,
   "id": "0e644d72",
   "metadata": {},
   "outputs": [],
   "source": [
    "def smiles_to_fingerprint(smiles):\n",
    "    mol = Chem.MolFromSmiles(smiles)\n",
    "    if mol is not None:\n",
    "        fp = AllChem.GetMorganFingerprintAsBitVect(mol, 2, nBits=CFG['NBITS'])\n",
    "        arr = np.zeros((1,))\n",
    "        DataStructs.ConvertToNumpyArray(fp, arr)\n",
    "        return arr\n",
    "    return None"
   ]
  },
  {
   "cell_type": "code",
   "execution_count": null,
   "id": "ac6a1cf0",
   "metadata": {},
   "outputs": [],
   "source": []
  },
  {
   "cell_type": "code",
   "execution_count": null,
   "id": "0a5713cb",
   "metadata": {},
   "outputs": [],
   "source": []
  }
 ],
 "metadata": {
  "kernelspec": {
   "display_name": "protein_ml",
   "language": "python",
   "name": "python3"
  },
  "language_info": {
   "codemirror_mode": {
    "name": "ipython",
    "version": 3
   },
   "file_extension": ".py",
   "mimetype": "text/x-python",
   "name": "python",
   "nbconvert_exporter": "python",
   "pygments_lexer": "ipython3",
   "version": "3.10.18"
  }
 },
 "nbformat": 4,
 "nbformat_minor": 5
}
